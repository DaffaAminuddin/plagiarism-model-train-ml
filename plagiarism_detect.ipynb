{
 "cells": [
  {
   "cell_type": "code",
   "execution_count": 4,
   "id": "e8c001a3",
   "metadata": {},
   "outputs": [
    {
     "name": "stderr",
     "output_type": "stream",
     "text": [
      "[nltk_data] Downloading collection 'popular'\n",
      "[nltk_data]    | \n",
      "[nltk_data]    | Downloading package cmudict to\n",
      "[nltk_data]    |     C:\\Users\\Daffa\\AppData\\Roaming\\nltk_data...\n",
      "[nltk_data]    |   Package cmudict is already up-to-date!\n",
      "[nltk_data]    | Downloading package gazetteers to\n",
      "[nltk_data]    |     C:\\Users\\Daffa\\AppData\\Roaming\\nltk_data...\n",
      "[nltk_data]    |   Package gazetteers is already up-to-date!\n",
      "[nltk_data]    | Downloading package genesis to\n",
      "[nltk_data]    |     C:\\Users\\Daffa\\AppData\\Roaming\\nltk_data...\n",
      "[nltk_data]    |   Package genesis is already up-to-date!\n",
      "[nltk_data]    | Downloading package gutenberg to\n",
      "[nltk_data]    |     C:\\Users\\Daffa\\AppData\\Roaming\\nltk_data...\n",
      "[nltk_data]    |   Package gutenberg is already up-to-date!\n",
      "[nltk_data]    | Downloading package inaugural to\n",
      "[nltk_data]    |     C:\\Users\\Daffa\\AppData\\Roaming\\nltk_data...\n",
      "[nltk_data]    |   Package inaugural is already up-to-date!\n",
      "[nltk_data]    | Downloading package movie_reviews to\n",
      "[nltk_data]    |     C:\\Users\\Daffa\\AppData\\Roaming\\nltk_data...\n",
      "[nltk_data]    |   Package movie_reviews is already up-to-date!\n",
      "[nltk_data]    | Downloading package names to\n",
      "[nltk_data]    |     C:\\Users\\Daffa\\AppData\\Roaming\\nltk_data...\n",
      "[nltk_data]    |   Package names is already up-to-date!\n",
      "[nltk_data]    | Downloading package shakespeare to\n",
      "[nltk_data]    |     C:\\Users\\Daffa\\AppData\\Roaming\\nltk_data...\n",
      "[nltk_data]    |   Package shakespeare is already up-to-date!\n",
      "[nltk_data]    | Downloading package stopwords to\n",
      "[nltk_data]    |     C:\\Users\\Daffa\\AppData\\Roaming\\nltk_data...\n",
      "[nltk_data]    |   Package stopwords is already up-to-date!\n",
      "[nltk_data]    | Downloading package treebank to\n",
      "[nltk_data]    |     C:\\Users\\Daffa\\AppData\\Roaming\\nltk_data...\n",
      "[nltk_data]    |   Package treebank is already up-to-date!\n",
      "[nltk_data]    | Downloading package twitter_samples to\n",
      "[nltk_data]    |     C:\\Users\\Daffa\\AppData\\Roaming\\nltk_data...\n",
      "[nltk_data]    |   Package twitter_samples is already up-to-date!\n",
      "[nltk_data]    | Downloading package omw to\n",
      "[nltk_data]    |     C:\\Users\\Daffa\\AppData\\Roaming\\nltk_data...\n",
      "[nltk_data]    |   Package omw is already up-to-date!\n",
      "[nltk_data]    | Downloading package omw-1.4 to\n",
      "[nltk_data]    |     C:\\Users\\Daffa\\AppData\\Roaming\\nltk_data...\n",
      "[nltk_data]    |   Package omw-1.4 is already up-to-date!\n",
      "[nltk_data]    | Downloading package wordnet to\n",
      "[nltk_data]    |     C:\\Users\\Daffa\\AppData\\Roaming\\nltk_data...\n",
      "[nltk_data]    |   Package wordnet is already up-to-date!\n",
      "[nltk_data]    | Downloading package wordnet2021 to\n",
      "[nltk_data]    |     C:\\Users\\Daffa\\AppData\\Roaming\\nltk_data...\n",
      "[nltk_data]    |   Package wordnet2021 is already up-to-date!\n",
      "[nltk_data]    | Downloading package wordnet31 to\n",
      "[nltk_data]    |     C:\\Users\\Daffa\\AppData\\Roaming\\nltk_data...\n",
      "[nltk_data]    |   Package wordnet31 is already up-to-date!\n",
      "[nltk_data]    | Downloading package wordnet_ic to\n",
      "[nltk_data]    |     C:\\Users\\Daffa\\AppData\\Roaming\\nltk_data...\n",
      "[nltk_data]    |   Package wordnet_ic is already up-to-date!\n",
      "[nltk_data]    | Downloading package words to\n",
      "[nltk_data]    |     C:\\Users\\Daffa\\AppData\\Roaming\\nltk_data...\n",
      "[nltk_data]    |   Package words is already up-to-date!\n",
      "[nltk_data]    | Downloading package maxent_ne_chunker to\n",
      "[nltk_data]    |     C:\\Users\\Daffa\\AppData\\Roaming\\nltk_data...\n",
      "[nltk_data]    |   Package maxent_ne_chunker is already up-to-date!\n",
      "[nltk_data]    | Downloading package punkt to\n",
      "[nltk_data]    |     C:\\Users\\Daffa\\AppData\\Roaming\\nltk_data...\n",
      "[nltk_data]    |   Package punkt is already up-to-date!\n",
      "[nltk_data]    | Downloading package snowball_data to\n",
      "[nltk_data]    |     C:\\Users\\Daffa\\AppData\\Roaming\\nltk_data...\n",
      "[nltk_data]    |   Package snowball_data is already up-to-date!\n",
      "[nltk_data]    | Downloading package averaged_perceptron_tagger to\n",
      "[nltk_data]    |     C:\\Users\\Daffa\\AppData\\Roaming\\nltk_data...\n",
      "[nltk_data]    |   Package averaged_perceptron_tagger is already up-\n",
      "[nltk_data]    |       to-date!\n",
      "[nltk_data]    | \n",
      "[nltk_data]  Done downloading collection popular\n"
     ]
    }
   ],
   "source": [
    "import nltk\n",
    "nltk.download('popular')\n",
    "import pandas as pd\n",
    "import string\n",
    "from nltk.corpus import stopwords\n",
    "from sklearn.linear_model import LogisticRegression\n",
    "from sklearn.model_selection import train_test_split\n",
    "from sklearn.metrics import accuracy_score, classification_report, confusion_matrix\n",
    "from sklearn.feature_extraction.text import TfidfVectorizer"
   ]
  },
  {
   "cell_type": "code",
   "execution_count": 2,
   "id": "816fdf12",
   "metadata": {},
   "outputs": [],
   "source": [
    "## Load Dataset"
   ]
  },
  {
   "cell_type": "code",
   "execution_count": 6,
   "id": "0fc2ddc7",
   "metadata": {},
   "outputs": [
    {
     "data": {
      "text/html": [
       "<div>\n",
       "<style scoped>\n",
       "    .dataframe tbody tr th:only-of-type {\n",
       "        vertical-align: middle;\n",
       "    }\n",
       "\n",
       "    .dataframe tbody tr th {\n",
       "        vertical-align: top;\n",
       "    }\n",
       "\n",
       "    .dataframe thead th {\n",
       "        text-align: right;\n",
       "    }\n",
       "</style>\n",
       "<table border=\"1\" class=\"dataframe\">\n",
       "  <thead>\n",
       "    <tr style=\"text-align: right;\">\n",
       "      <th></th>\n",
       "      <th>id</th>\n",
       "      <th>sentence1</th>\n",
       "      <th>sentence2</th>\n",
       "      <th>label</th>\n",
       "    </tr>\n",
       "  </thead>\n",
       "  <tbody>\n",
       "    <tr>\n",
       "      <th>0</th>\n",
       "      <td>1</td>\n",
       "      <td>In Paris , in October 1560 , he secretly met t...</td>\n",
       "      <td>In October 1560 , he secretly met with the Eng...</td>\n",
       "      <td>0</td>\n",
       "    </tr>\n",
       "    <tr>\n",
       "      <th>1</th>\n",
       "      <td>2</td>\n",
       "      <td>The NBA season of 1975 -- 76 was the 30th seas...</td>\n",
       "      <td>The 1975 -- 76 season of the National Basketba...</td>\n",
       "      <td>1</td>\n",
       "    </tr>\n",
       "    <tr>\n",
       "      <th>2</th>\n",
       "      <td>3</td>\n",
       "      <td>There are also specific discussions , public p...</td>\n",
       "      <td>There are also public discussions , profile sp...</td>\n",
       "      <td>0</td>\n",
       "    </tr>\n",
       "    <tr>\n",
       "      <th>3</th>\n",
       "      <td>4</td>\n",
       "      <td>When comparable rates of flow can be maintaine...</td>\n",
       "      <td>The results are high when comparable flow rate...</td>\n",
       "      <td>1</td>\n",
       "    </tr>\n",
       "    <tr>\n",
       "      <th>4</th>\n",
       "      <td>5</td>\n",
       "      <td>It is the seat of Zerendi District in Akmola R...</td>\n",
       "      <td>It is the seat of the district of Zerendi in A...</td>\n",
       "      <td>1</td>\n",
       "    </tr>\n",
       "  </tbody>\n",
       "</table>\n",
       "</div>"
      ],
      "text/plain": [
       "   id                                          sentence1  \\\n",
       "0   1  In Paris , in October 1560 , he secretly met t...   \n",
       "1   2  The NBA season of 1975 -- 76 was the 30th seas...   \n",
       "2   3  There are also specific discussions , public p...   \n",
       "3   4  When comparable rates of flow can be maintaine...   \n",
       "4   5  It is the seat of Zerendi District in Akmola R...   \n",
       "\n",
       "                                           sentence2  label  \n",
       "0  In October 1560 , he secretly met with the Eng...      0  \n",
       "1  The 1975 -- 76 season of the National Basketba...      1  \n",
       "2  There are also public discussions , profile sp...      0  \n",
       "3  The results are high when comparable flow rate...      1  \n",
       "4  It is the seat of the district of Zerendi in A...      1  "
      ]
     },
     "execution_count": 6,
     "metadata": {},
     "output_type": "execute_result"
    }
   ],
   "source": [
    "df = pd.read_csv(\"labeled_final_train.csv\")\n",
    "df.head()\n",
    "# baris label berisi 1 dan 0 menandakan hubungan sentence 1 dan sentence 2 apakah parafrase"
   ]
  },
  {
   "cell_type": "code",
   "execution_count": 7,
   "id": "192e8836",
   "metadata": {},
   "outputs": [
    {
     "data": {
      "text/plain": [
       "0    27572\n",
       "1    21829\n",
       "Name: label, dtype: int64"
      ]
     },
     "execution_count": 7,
     "metadata": {},
     "output_type": "execute_result"
    }
   ],
   "source": [
    "df['label'].value_counts()"
   ]
  },
  {
   "cell_type": "code",
   "execution_count": 22,
   "id": "78009796",
   "metadata": {},
   "outputs": [
    {
     "data": {
      "text/plain": [
       "(49401, 4)"
      ]
     },
     "execution_count": 22,
     "metadata": {},
     "output_type": "execute_result"
    }
   ],
   "source": [
    "df.shape"
   ]
  },
  {
   "cell_type": "code",
   "execution_count": 23,
   "id": "dd69637b",
   "metadata": {},
   "outputs": [],
   "source": [
    "# hanya mengambil 200 baris data pada dataset\n",
    "df200 = df.sample(n=200, random_state=42)"
   ]
  },
  {
   "cell_type": "code",
   "execution_count": 25,
   "id": "f321c549",
   "metadata": {},
   "outputs": [
    {
     "data": {
      "text/plain": [
       "(200, 4)"
      ]
     },
     "execution_count": 25,
     "metadata": {},
     "output_type": "execute_result"
    }
   ],
   "source": [
    "df200.shape"
   ]
  },
  {
   "cell_type": "code",
   "execution_count": 54,
   "id": "c93007ea",
   "metadata": {},
   "outputs": [],
   "source": [
    "## Clean txt"
   ]
  },
  {
   "cell_type": "code",
   "execution_count": 26,
   "id": "64f757ea",
   "metadata": {},
   "outputs": [
    {
     "data": {
      "text/plain": [
       "'hello name budi'"
      ]
     },
     "execution_count": 26,
     "metadata": {},
     "output_type": "execute_result"
    }
   ],
   "source": [
    "def preprocess_text(text):\n",
    "    # menghilangkan punctuation/tanda baca\n",
    "    text = text.translate(str.maketrans(\"\", \"\", string.punctuation))\n",
    "    # menghilangkan lowercase\n",
    "    text = text.lower()\n",
    "    # remove stopwards\n",
    "    stop_words = set(stopwords.words('english'))\n",
    "    text = \" \".join((word for word in text.split() if word not in stop_words))\n",
    "    return text\n",
    "\n",
    "#contoh\n",
    "preprocess_text(\"Hello my name is @%$%^$budi\")"
   ]
  },
  {
   "cell_type": "code",
   "execution_count": 27,
   "id": "301d4cde",
   "metadata": {},
   "outputs": [],
   "source": [
    "# mengaplikasikan ke dataset\n",
    "df200['sentence1'] = df200['sentence1'].apply(preprocess_text)\n",
    "df200['sentence2'] = df200['sentence2'].apply(preprocess_text)"
   ]
  },
  {
   "cell_type": "code",
   "execution_count": 28,
   "id": "eb5d0182",
   "metadata": {},
   "outputs": [
    {
     "data": {
      "text/html": [
       "<div>\n",
       "<style scoped>\n",
       "    .dataframe tbody tr th:only-of-type {\n",
       "        vertical-align: middle;\n",
       "    }\n",
       "\n",
       "    .dataframe tbody tr th {\n",
       "        vertical-align: top;\n",
       "    }\n",
       "\n",
       "    .dataframe thead th {\n",
       "        text-align: right;\n",
       "    }\n",
       "</style>\n",
       "<table border=\"1\" class=\"dataframe\">\n",
       "  <thead>\n",
       "    <tr style=\"text-align: right;\">\n",
       "      <th></th>\n",
       "      <th>id</th>\n",
       "      <th>sentence1</th>\n",
       "      <th>sentence2</th>\n",
       "      <th>label</th>\n",
       "    </tr>\n",
       "  </thead>\n",
       "  <tbody>\n",
       "    <tr>\n",
       "      <th>14403</th>\n",
       "      <td>14404</td>\n",
       "      <td>500 hispanic settlers lived near san antonio r...</td>\n",
       "      <td>500 hispanic settlers lived near san antonio r...</td>\n",
       "      <td>1</td>\n",
       "    </tr>\n",
       "    <tr>\n",
       "      <th>30768</th>\n",
       "      <td>30769</td>\n",
       "      <td>fuksas born rome 1944 father lithuanian jewish...</td>\n",
       "      <td>born 1944 rome father lithuanian jewish french...</td>\n",
       "      <td>1</td>\n",
       "    </tr>\n",
       "    <tr>\n",
       "      <th>15832</th>\n",
       "      <td>15833</td>\n",
       "      <td>bassett owner toronto argonauts 1957 1974 team...</td>\n",
       "      <td>bassett owner canadian football league 1957 19...</td>\n",
       "      <td>0</td>\n",
       "    </tr>\n",
       "    <tr>\n",
       "      <th>26264</th>\n",
       "      <td>26265</td>\n",
       "      <td>established republican george allen ran third ...</td>\n",
       "      <td>chuck robb ran incumbent third term lost repub...</td>\n",
       "      <td>0</td>\n",
       "    </tr>\n",
       "    <tr>\n",
       "      <th>14061</th>\n",
       "      <td>14062</td>\n",
       "      <td>mukesh venugopal lead singer music band hits o...</td>\n",
       "      <td>venugopal mukesh lead singer music band hits o...</td>\n",
       "      <td>1</td>\n",
       "    </tr>\n",
       "  </tbody>\n",
       "</table>\n",
       "</div>"
      ],
      "text/plain": [
       "          id                                          sentence1  \\\n",
       "14403  14404  500 hispanic settlers lived near san antonio r...   \n",
       "30768  30769  fuksas born rome 1944 father lithuanian jewish...   \n",
       "15832  15833  bassett owner toronto argonauts 1957 1974 team...   \n",
       "26264  26265  established republican george allen ran third ...   \n",
       "14061  14062  mukesh venugopal lead singer music band hits o...   \n",
       "\n",
       "                                               sentence2  label  \n",
       "14403  500 hispanic settlers lived near san antonio r...      1  \n",
       "30768  born 1944 rome father lithuanian jewish french...      1  \n",
       "15832  bassett owner canadian football league 1957 19...      0  \n",
       "26264  chuck robb ran incumbent third term lost repub...      0  \n",
       "14061  venugopal mukesh lead singer music band hits o...      1  "
      ]
     },
     "execution_count": 28,
     "metadata": {},
     "output_type": "execute_result"
    }
   ],
   "source": [
    "df200.head()"
   ]
  },
  {
   "cell_type": "code",
   "execution_count": 29,
   "id": "c72cac30",
   "metadata": {},
   "outputs": [
    {
     "data": {
      "text/plain": [
       "0    119\n",
       "1     81\n",
       "Name: label, dtype: int64"
      ]
     },
     "execution_count": 29,
     "metadata": {},
     "output_type": "execute_result"
    }
   ],
   "source": [
    "df200['label'].value_counts()"
   ]
  },
  {
   "cell_type": "code",
   "execution_count": 35,
   "id": "0644e939",
   "metadata": {},
   "outputs": [],
   "source": [
    "#membalace data\n",
    "from sklearn.utils import resample\n",
    "\n",
    "#mendapatkan nilai max count dari semua categori = 120\n",
    "max_count = df200['label'].value_counts().max()\n",
    "\n",
    "#Meresampling setiap kategori ke maximum count yg cocok untuk dataset seimbang\n",
    "balanced_data = [] # buat empty list\n",
    "for label in df200['label'].unique(): # mengambil nama setiap category\n",
    "    label_data = df200[df200['label'] == label] #jika kategori sama masukan ke variable\n",
    "    if len(label_data) < max_count: \n",
    "        # akan melakukan oversampling untuk kategori dengan sampling sedikit atau kurang dari max\n",
    "        balanced_label_data = resample(label_data, replace=True, n_samples = max_count, random_state=42)\n",
    "    else:\n",
    "        # akan melakukan undersampling unutk kategori yg lebih banyak sample\n",
    "        balanced_label_data = resample(label_data, replace= False, n_samples = max_count, random_state=42)\n",
    "    balanced_data.append(balanced_label_data)\n",
    "# Concat untuk hasil balanced data untuk semua kategori\n",
    "balanced_df = pd.concat(balanced_data)"
   ]
  },
  {
   "cell_type": "code",
   "execution_count": 36,
   "id": "2f383373",
   "metadata": {},
   "outputs": [
    {
     "data": {
      "text/plain": [
       "1    119\n",
       "0    119\n",
       "Name: label, dtype: int64"
      ]
     },
     "execution_count": 36,
     "metadata": {},
     "output_type": "execute_result"
    }
   ],
   "source": [
    "balanced_df['label'].value_counts()"
   ]
  },
  {
   "cell_type": "code",
   "execution_count": 24,
   "id": "0320b936",
   "metadata": {},
   "outputs": [],
   "source": [
    "# mengubah ke tulisan(string) ke numerical (vectorize) untuk bisa dibaca mesin"
   ]
  },
  {
   "cell_type": "code",
   "execution_count": 37,
   "id": "c32ba660",
   "metadata": {},
   "outputs": [],
   "source": [
    "tfidf_vectorizer = TfidfVectorizer()\n",
    "X = tfidf_vectorizer.fit_transform(balanced_df[\"sentence1\"] + \" \" + balanced_df[\"sentence2\"])"
   ]
  },
  {
   "cell_type": "code",
   "execution_count": 38,
   "id": "d3937d1c",
   "metadata": {},
   "outputs": [],
   "source": [
    "y = balanced_df['label']"
   ]
  },
  {
   "cell_type": "code",
   "execution_count": 28,
   "id": "b0926e94",
   "metadata": {},
   "outputs": [],
   "source": [
    "## Membagi dataset ke train dan test"
   ]
  },
  {
   "cell_type": "code",
   "execution_count": 39,
   "id": "28ae6161",
   "metadata": {},
   "outputs": [],
   "source": [
    "X_train, X_test, y_train, y_test = train_test_split(X, y, test_size=0.2, random_state=42)"
   ]
  },
  {
   "cell_type": "code",
   "execution_count": 40,
   "id": "2065e8ad",
   "metadata": {},
   "outputs": [
    {
     "name": "stdout",
     "output_type": "stream",
     "text": [
      "accuracy 0.8125\n",
      "Classification               precision    recall  f1-score   support\n",
      "\n",
      "           0       0.73      0.96      0.83        23\n",
      "           1       0.94      0.68      0.79        25\n",
      "\n",
      "    accuracy                           0.81        48\n",
      "   macro avg       0.84      0.82      0.81        48\n",
      "weighted avg       0.84      0.81      0.81        48\n",
      "\n",
      "confusion [[22  1]\n",
      " [ 8 17]]\n"
     ]
    }
   ],
   "source": [
    "## Mengaplikasikan Logistic regression\n",
    "\n",
    "model = LogisticRegression()\n",
    "model.fit(X_train,y_train)\n",
    "y_pred = model.predict(X_test)\n",
    "\n",
    "print(\"accuracy\", accuracy_score(y_test, y_pred))\n",
    "print(\"Classification\", classification_report(y_test,y_pred))\n",
    "print(\"confusion\", confusion_matrix(y_test,y_pred))"
   ]
  },
  {
   "cell_type": "code",
   "execution_count": 41,
   "id": "d917fed9",
   "metadata": {},
   "outputs": [],
   "source": [
    "## random forest classifier"
   ]
  },
  {
   "cell_type": "code",
   "execution_count": 42,
   "id": "d5d66fd5",
   "metadata": {},
   "outputs": [
    {
     "name": "stdout",
     "output_type": "stream",
     "text": [
      "accuracy 0.8333333333333334\n",
      "Classification               precision    recall  f1-score   support\n",
      "\n",
      "           0       0.74      1.00      0.85        23\n",
      "           1       1.00      0.68      0.81        25\n",
      "\n",
      "    accuracy                           0.83        48\n",
      "   macro avg       0.87      0.84      0.83        48\n",
      "weighted avg       0.88      0.83      0.83        48\n",
      "\n",
      "confusion [[23  0]\n",
      " [ 8 17]]\n"
     ]
    }
   ],
   "source": [
    "from sklearn.ensemble import RandomForestClassifier\n",
    "\n",
    "model = RandomForestClassifier(n_estimators = 100, random_state=42)\n",
    "model.fit(X_train,y_train)\n",
    "y_pred = model.predict(X_test)\n",
    "\n",
    "print(\"accuracy\", accuracy_score(y_test, y_pred))\n",
    "print(\"Classification\", classification_report(y_test,y_pred))\n",
    "print(\"confusion\", confusion_matrix(y_test,y_pred))"
   ]
  },
  {
   "cell_type": "code",
   "execution_count": 43,
   "id": "882bdf30",
   "metadata": {},
   "outputs": [],
   "source": [
    "## Naiv Bays Model (real textual data)"
   ]
  },
  {
   "cell_type": "code",
   "execution_count": 45,
   "id": "4723ebaf",
   "metadata": {},
   "outputs": [
    {
     "name": "stdout",
     "output_type": "stream",
     "text": [
      "accuracy 0.7916666666666666\n",
      "Classification               precision    recall  f1-score   support\n",
      "\n",
      "           0       0.78      0.78      0.78        23\n",
      "           1       0.80      0.80      0.80        25\n",
      "\n",
      "    accuracy                           0.79        48\n",
      "   macro avg       0.79      0.79      0.79        48\n",
      "weighted avg       0.79      0.79      0.79        48\n",
      "\n",
      "confusion [[18  5]\n",
      " [ 5 20]]\n"
     ]
    }
   ],
   "source": [
    "from sklearn.naive_bayes import MultinomialNB\n",
    "\n",
    "model = MultinomialNB()\n",
    "model.fit(X_train,y_train)\n",
    "y_pred = model.predict(X_test)\n",
    "\n",
    "print(\"accuracy\", accuracy_score(y_test, y_pred))\n",
    "print(\"Classification\", classification_report(y_test,y_pred))\n",
    "print(\"confusion\", confusion_matrix(y_test,y_pred))"
   ]
  },
  {
   "cell_type": "code",
   "execution_count": 46,
   "id": "8ac4e38d",
   "metadata": {},
   "outputs": [],
   "source": [
    "## SVM"
   ]
  },
  {
   "cell_type": "code",
   "execution_count": 47,
   "id": "fea9808d",
   "metadata": {},
   "outputs": [
    {
     "name": "stdout",
     "output_type": "stream",
     "text": [
      "accuracy 0.8125\n",
      "Classification               precision    recall  f1-score   support\n",
      "\n",
      "           0       0.73      0.96      0.83        23\n",
      "           1       0.94      0.68      0.79        25\n",
      "\n",
      "    accuracy                           0.81        48\n",
      "   macro avg       0.84      0.82      0.81        48\n",
      "weighted avg       0.84      0.81      0.81        48\n",
      "\n",
      "confusion [[22  1]\n",
      " [ 8 17]]\n"
     ]
    }
   ],
   "source": [
    "from sklearn.svm import SVC #support vector classifier (linear)\n",
    "\n",
    "model = SVC(kernel ='linear', random_state=42)\n",
    "model.fit(X_train,y_train)\n",
    "y_pred = model.predict(X_test)\n",
    "\n",
    "print(\"accuracy\", accuracy_score(y_test, y_pred))\n",
    "print(\"Classification\", classification_report(y_test,y_pred))\n",
    "print(\"confusion\", confusion_matrix(y_test,y_pred))"
   ]
  },
  {
   "cell_type": "code",
   "execution_count": 73,
   "id": "60083472",
   "metadata": {},
   "outputs": [
    {
     "data": {
      "image/png": "[encoded data removed]",
      "text/plain": [
       "<Figure size 720x576 with 2 Axes>"
      ]
     },
     "metadata": {
      "needs_background": "light"
     },
     "output_type": "display_data"
    }
   ],
   "source": [
    "import matplotlib.pyplot as plt\n",
    "import seaborn as sns\n",
    "\n",
    "conf_matrix = confusion_matrix(y_test, y_pred) \n",
    "\n",
    "plt.figure(figsize=(10, 8)) #buat figur dan heatmap\n",
    "sns.heatmap(conf_matrix, annot=True, fmt='d', cmap='Blues', xticklabels=model.classes_, yticklabels=model.classes_)\n",
    "plt.xlabel('Predicted')\n",
    "plt.ylabel('True')\n",
    "plt.title('Confusion Matrix')\n",
    "plt.show()"
   ]
  },
  {
   "cell_type": "code",
   "execution_count": 48,
   "id": "79a5c3ca",
   "metadata": {},
   "outputs": [],
   "source": [
    "# save model last model use = SVM"
   ]
  },
  {
   "cell_type": "code",
   "execution_count": 49,
   "id": "472faea1",
   "metadata": {},
   "outputs": [],
   "source": [
    "import pickle\n",
    "pickle.dump(model,open('model.pkl','wb'))\n",
    "pickle.dump(tfidf_vectorizer,open('tfidf_vectorizer.pkl','wb'))"
   ]
  },
  {
   "cell_type": "code",
   "execution_count": 53,
   "id": "92cf2877",
   "metadata": {},
   "outputs": [],
   "source": [
    "## load model\n",
    "model = pickle.load(open('model.pkl','rb'))\n",
    "tfidf_vectorizer = pickle.load(open('tfidf_vectorizer.pkl','rb'))"
   ]
  },
  {
   "cell_type": "code",
   "execution_count": 54,
   "id": "2987c04e",
   "metadata": {},
   "outputs": [],
   "source": [
    "# Detective system"
   ]
  },
  {
   "cell_type": "code",
   "execution_count": 67,
   "id": "a53f00c0",
   "metadata": {},
   "outputs": [],
   "source": [
    "def detect(input_text):\n",
    "    # convert vector\n",
    "    vectorized_text = tfidf_vectorizer.transform([input_text])\n",
    "    # akan diprediksi oleh model\n",
    "    result = model.predict(vectorized_text)\n",
    "    return \"Unik\" if result[0] == 1 else \"Terdeteksi Plagiarism\""
   ]
  },
  {
   "cell_type": "code",
   "execution_count": 68,
   "id": "26922bd7",
   "metadata": {},
   "outputs": [
    {
     "data": {
      "text/plain": [
       "'Terdeteksi Plagiarism'"
      ]
     },
     "execution_count": 68,
     "metadata": {},
     "output_type": "execute_result"
    }
   ],
   "source": [
    "# example ( plagiat)\n",
    "input_text = 'Researchers have discovered a new species of butterfly in the Amazon rainforest.'\n",
    "detect(input_text)"
   ]
  },
  {
   "cell_type": "code",
   "execution_count": 69,
   "id": "58f8b943",
   "metadata": {},
   "outputs": [
    {
     "data": {
      "text/plain": [
       "'Unik'"
      ]
     },
     "execution_count": 69,
     "metadata": {},
     "output_type": "execute_result"
    }
   ],
   "source": [
    "# example (unik)\n",
    "input_text = 'Luciano Williames Dias ( born July 25 , 1970 ) is a Brazilian football coach and former player .\",Luciano Williames Dias ( born 25 July 1970 ) is a former football coach and Brazilian player'\n",
    "detect(input_text)"
   ]
  },
  {
   "cell_type": "code",
   "execution_count": 81,
   "id": "3aa1b0ad",
   "metadata": {},
   "outputs": [
    {
     "data": {
      "text/plain": [
       "'Terdeteksi Plagiarism'"
      ]
     },
     "execution_count": 81,
     "metadata": {},
     "output_type": "execute_result"
    }
   ],
   "source": [
    "# example (unik)\n",
    "input_text = 'Lamas is the capital of the province of Lamas in the region of San MartÃ­n in northern Peru .,\"Lamas is the capital of the San MartÃ­n region , located in the province of Lamas in northern Peru .'\n",
    "detect(input_text)"
   ]
  },
  {
   "cell_type": "code",
   "execution_count": 80,
   "id": "a9dadcaa",
   "metadata": {},
   "outputs": [
    {
     "data": {
      "text/plain": [
       "'Unik'"
      ]
     },
     "execution_count": 80,
     "metadata": {},
     "output_type": "execute_result"
    }
   ],
   "source": [
    "# example ( unik)\n",
    "input_text = 'Luciano Williames Dias ( born 25 July 1970 ) is a Brazilian football coach and former player .,\"Luciano Williames Dias ( born July 25 , 1970 ) is a Brazilian football coach and former player .'\n",
    "detect(input_text)"
   ]
  },
  {
   "cell_type": "code",
   "execution_count": 82,
   "id": "16e8f87f",
   "metadata": {},
   "outputs": [
    {
     "data": {
      "text/plain": [
       "'1.0.2'"
      ]
     },
     "execution_count": 82,
     "metadata": {},
     "output_type": "execute_result"
    }
   ],
   "source": [
    "# sklearn version\n",
    "import sklearn\n",
    "sklearn.__version__"
   ]
  },
  {
   "cell_type": "code",
   "execution_count": null,
   "id": "838ae7f1",
   "metadata": {},
   "outputs": [],
   "source": []
  }
 ],
 "metadata": {
  "kernelspec": {
   "display_name": "Python 3 (ipykernel)",
   "language": "python",
   "name": "python3"
  },
  "language_info": {
   "codemirror_mode": {
    "name": "ipython",
    "version": 3
   },
   "file_extension": ".py",
   "mimetype": "text/x-python",
   "name": "python",
   "nbconvert_exporter": "python",
   "pygments_lexer": "ipython3",
   "version": "3.9.12"
  }
 },
 "nbformat": 4,
 "nbformat_minor": 5
}
